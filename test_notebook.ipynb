{
 "cells": [
  {
   "cell_type": "code",
   "execution_count": 1,
   "id": "e6d5b8ef",
   "metadata": {},
   "outputs": [
    {
     "name": "stdout",
     "output_type": "stream",
     "text": [
      "This is a test notebook!\n"
     ]
    }
   ],
   "source": [
    "print(\"This is a test notebook!\")"
   ]
  },
  {
   "cell_type": "code",
   "execution_count": 1,
   "id": "5bf9ba40",
   "metadata": {},
   "outputs": [
    {
     "name": "stdout",
     "output_type": "stream",
     "text": [
      "Let's see if I can edit, then push changes to Github!\n"
     ]
    }
   ],
   "source": [
    "print(\"Let's see if I can edit, then push changes to Github!\")"
   ]
  },
  {
   "cell_type": "code",
   "execution_count": 22,
   "id": "30eeee6b",
   "metadata": {},
   "outputs": [
    {
     "name": "stdout",
     "output_type": "stream",
     "text": [
      "Here is my original data. \n",
      "\n",
      "   A  B\n",
      "0  1  8\n",
      "1  1  7\n",
      "2  2  3\n",
      "3  3  2 \n",
      "\n",
      "Look, I applied a function to Column B! \n",
      "\n",
      "   A   B\n",
      "0  1  64\n",
      "1  1  49\n",
      "2  2   9\n",
      "3  3   4\n"
     ]
    }
   ],
   "source": [
    "import pandas as pd\n",
    "\n",
    "test_df = pd.DataFrame({'A' : [1,1,2,3],'B':[8,7,3,2]}) \n",
    "\n",
    "print(\"Here is my original data. \\n\")\n",
    "\n",
    "print(test_df.head(), '\\n')\n",
    "\n",
    "## Define a function that squares its input\n",
    "def my_square(x):\n",
    "    return x**2\n",
    "\n",
    "test_df['B'] = test_df['B'].map(my_square)\n",
    "\n",
    "print(\"Look, I applied a function to Column B! \\n\")\n",
    "print(test_df.head())"
   ]
  },
  {
   "cell_type": "code",
   "execution_count": 5,
   "id": "47ded44d",
   "metadata": {},
   "outputs": [
    {
     "data": {
      "text/html": [
       "<div>\n",
       "<style scoped>\n",
       "    .dataframe tbody tr th:only-of-type {\n",
       "        vertical-align: middle;\n",
       "    }\n",
       "\n",
       "    .dataframe tbody tr th {\n",
       "        vertical-align: top;\n",
       "    }\n",
       "\n",
       "    .dataframe thead th {\n",
       "        text-align: right;\n",
       "    }\n",
       "</style>\n",
       "<table border=\"1\" class=\"dataframe\">\n",
       "  <thead>\n",
       "    <tr style=\"text-align: right;\">\n",
       "      <th></th>\n",
       "      <th>A</th>\n",
       "      <th>B</th>\n",
       "    </tr>\n",
       "  </thead>\n",
       "  <tbody>\n",
       "    <tr>\n",
       "      <th>0</th>\n",
       "      <td>1</td>\n",
       "      <td>8</td>\n",
       "    </tr>\n",
       "    <tr>\n",
       "      <th>1</th>\n",
       "      <td>1</td>\n",
       "      <td>7</td>\n",
       "    </tr>\n",
       "    <tr>\n",
       "      <th>2</th>\n",
       "      <td>2</td>\n",
       "      <td>3</td>\n",
       "    </tr>\n",
       "    <tr>\n",
       "      <th>3</th>\n",
       "      <td>3</td>\n",
       "      <td>2</td>\n",
       "    </tr>\n",
       "  </tbody>\n",
       "</table>\n",
       "</div>"
      ],
      "text/plain": [
       "   A  B\n",
       "0  1  8\n",
       "1  1  7\n",
       "2  2  3\n",
       "3  3  2"
      ]
     },
     "execution_count": 5,
     "metadata": {},
     "output_type": "execute_result"
    }
   ],
   "source": []
  },
  {
   "cell_type": "code",
   "execution_count": null,
   "id": "b436c5ff",
   "metadata": {},
   "outputs": [],
   "source": []
  }
 ],
 "metadata": {
  "kernelspec": {
   "display_name": "Python 3",
   "language": "python",
   "name": "python3"
  },
  "language_info": {
   "codemirror_mode": {
    "name": "ipython",
    "version": 3
   },
   "file_extension": ".py",
   "mimetype": "text/x-python",
   "name": "python",
   "nbconvert_exporter": "python",
   "pygments_lexer": "ipython3",
   "version": "3.8.8"
  }
 },
 "nbformat": 4,
 "nbformat_minor": 5
}
