{
 "cells": [
  {
   "cell_type": "code",
   "execution_count": 1,
   "id": "e6d5b8ef",
   "metadata": {},
   "outputs": [
    {
     "name": "stdout",
     "output_type": "stream",
     "text": [
      "This is a test notebook!\n"
     ]
    }
   ],
   "source": [
    "print(\"This is a test notebook!\")"
   ]
  },
  {
   "cell_type": "code",
   "execution_count": 1,
   "id": "5bf9ba40",
   "metadata": {},
   "outputs": [
    {
     "name": "stdout",
     "output_type": "stream",
     "text": [
      "Let's see if I can edit, then push changes to Github!\n"
     ]
    }
   ],
   "source": [
    "print(\"Let's see if I can edit, then push changes to Github!\")"
   ]
  },
  {
   "cell_type": "code",
   "execution_count": null,
   "id": "30eeee6b",
   "metadata": {},
   "outputs": [],
   "source": []
  }
 ],
 "metadata": {
  "kernelspec": {
   "display_name": "Python 3",
   "language": "python",
   "name": "python3"
  },
  "language_info": {
   "codemirror_mode": {
    "name": "ipython",
    "version": 3
   },
   "file_extension": ".py",
   "mimetype": "text/x-python",
   "name": "python",
   "nbconvert_exporter": "python",
   "pygments_lexer": "ipython3",
   "version": "3.8.8"
  }
 },
 "nbformat": 4,
 "nbformat_minor": 5
}
